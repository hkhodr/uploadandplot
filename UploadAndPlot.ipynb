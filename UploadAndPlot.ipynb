{
 "cells": [
  {
   "cell_type": "code",
   "execution_count": 1,
   "id": "e790d195-716a-4058-af78-505758f47835",
   "metadata": {},
   "outputs": [
    {
     "data": {
      "application/vnd.jupyter.widget-view+json": {
       "model_id": "5d5a18cfe4a141cab5256e4107af8d68",
       "version_major": 2,
       "version_minor": 0
      },
      "text/plain": [
       "FileUpload(value={}, accept='.txt', description='Upload', multiple=True)"
      ]
     },
     "metadata": {},
     "output_type": "display_data"
    }
   ],
   "source": [
    "from ipywidgets import FileUpload, Output\n",
    "import ipywidgets as widgets\n",
    "from IPython.display import display, Javascript,  HTML\n",
    "import sys\n",
    "from io import StringIO\n",
    "import pandas as pd\n",
    "import plotly.express as px\n",
    "import numpy as np \n",
    "from plotly.subplots import make_subplots\n",
    "import plotly.graph_objects as go\n",
    "from scipy.signal import find_peaks\n",
    "\n",
    "out = Output()\n",
    "upload = FileUpload(accept='.txt', multiple=True)\n",
    "\n",
    "upload "
   ]
  },
  {
   "cell_type": "code",
   "execution_count": 2,
   "id": "dd02db57-f8a3-43cd-9581-08481cddfff9",
   "metadata": {
    "tags": []
   },
   "outputs": [
    {
     "data": {
      "application/vnd.jupyter.widget-view+json": {
       "model_id": "5906ee800bf8444b8b5213f48af8664d",
       "version_major": 2,
       "version_minor": 0
      },
      "text/plain": [
       "BoundedFloatText(value=0.1, description='Surface:', max=10.0, step=0.1)"
      ]
     },
     "metadata": {},
     "output_type": "display_data"
    }
   ],
   "source": [
    "surfaceInput = widgets.BoundedFloatText(\n",
    "    value=0.1,\n",
    "    min=0,\n",
    "    max=10.0,\n",
    "    step=0.1,\n",
    "    description='Surface:',\n",
    "    disabled=False\n",
    ")\n",
    "display(surfaceInput)"
   ]
  },
  {
   "cell_type": "code",
   "execution_count": 3,
   "id": "5f9f98c4-daa4-4497-8a21-562975296699",
   "metadata": {},
   "outputs": [],
   "source": [
    "# name = input('Please upload a file and a surface value. Press Enter when done.  \\n')\n",
    "def on_button_clicked(b):\n",
    "    with out:\n",
    "        out.clear_output()\n",
    "        if(bool(upload.value)):  \n",
    "\n",
    "            for uploaded_filename in upload.value:\n",
    "                content = upload.value[uploaded_filename]['content']   \n",
    "                print(uploaded_filename)\n",
    "\n",
    "                s = \"\" \n",
    "                for line in content.split(b'\\n'):\n",
    "                    if \"Source;Delais(s);Mesure ;Temps(s);Mesure/Source;Source/Mesure;Puissance\" in line.decode('latin-1'):\n",
    "                        s = \"\"\n",
    "                    s +=line.decode('latin-1')\n",
    "\n",
    "                df = pd.read_csv(StringIO(s), sep=\";\")\n",
    "                df['J'] = df['Mesure ']*1000/surfaceInput.value\n",
    "                df['Power'] = df['J']*df['Source']\n",
    "\n",
    "                fig = make_subplots(rows=1, cols=2)\n",
    "\n",
    "                fig1 = px.line(df,x=\"Source\", y=\"J\")\n",
    "                fig2 = px.line(df,x=\"Source\", y=\"Power\")\n",
    "\n",
    "                fig.add_trace(fig1['data'][0], row=1, col=1)\n",
    "                fig.add_trace(fig2['data'][0], row=1, col=2)\n",
    "\n",
    "                fig.add_trace(go.Scatter(x=[0],y=[np.interp(0, df.Source, df.J)],mode='markers'),row =1 , col =1)\n",
    "                fig.add_trace(go.Scatter(x=[np.interp(0, df.J, df.Source)],y=[0],mode='markers'),row =1 , col =1)\n",
    "                minPower = min(df.Power)\n",
    "                fig.add_trace(go.Scatter(x=[np.array(df[df.Power == min(df.Power)].Source)[0]],y=[minPower],mode='markers'),row =1 , col =2) #df[df.Power == minPower]['Source']],y=[min(df.Power)],mode='markers'),row =1, col =2)\n",
    "\n",
    "\n",
    "                # peaks, _ = find_peaks(df.Power, height=0)\n",
    "                # fig.add_trace(go.Scatter(x=[df.Source[peaks[0]]],y=[df.Power[peaks[0]]],mode='markers'),row =1 , col =2)\n",
    "\n",
    "                fig.update_layout(\n",
    "                    showlegend=False,\n",
    "                    autosize=False,\n",
    "                    width=1500,\n",
    "                    height=700,\n",
    "                    margin=dict(\n",
    "                        l=50,\n",
    "                        r=50,\n",
    "                        b=100,\n",
    "                        t=100,\n",
    "                        pad=3\n",
    "                    )\n",
    "                )\n",
    "                # Update xaxis properties\n",
    "                fig.update_xaxes(title_text=\"Voltage [V]\", row=1, col=1)\n",
    "                fig.update_xaxes(title_text=\"Voltage [V]\", row=1, col=2)\n",
    "\n",
    "                # Update yaxis properties\n",
    "                fig.update_yaxes(title_text=\"J [mA/cm^2] \", row=1, col=1)\n",
    "                fig.update_yaxes(title_text=\"Power [mW/cm^2]\", row=1, col=2)\n",
    "\n",
    "                # Update title and height\n",
    "                # fig.update_layout(title_text=\"Plots\")\n",
    "                fig.show()\n",
    "\n",
    "                print(\"Jsc is: \" + str(np.interp(0, df.Source, df.J)))\n",
    "                print(\"Voc is: \" + str(np.interp(0, df.J, df.Source)))\n",
    "                print(\"Minimum power: \" + str(min(df.Power)) + \" at \" + str(np.array(df[df.Power == min(df.Power)].Source)[0]) + \" V and \" + str(np.array(df[df.Power == min(df.Power)].J)[0]) + \" mA/cm^2.\"  )\n",
    "                # print(\"Maximum power: \" + str(df.Power[peaks[0]]) + \" at \" + str(df.Source[peaks[0]]) + \" V and \" + str(df['Mesure '][peaks[0]]) + \" A.\"  )\n",
    "\n",
    "            upload.value.clear()\n",
    "            upload._counter = 0\n",
    "\n",
    "        else: \n",
    "            print(\"Empty file\")"
   ]
  },
  {
   "cell_type": "code",
   "execution_count": 4,
   "id": "bba58db8-6730-4ac5-b9a0-5e911624aad4",
   "metadata": {},
   "outputs": [
    {
     "data": {
      "application/vnd.jupyter.widget-view+json": {
       "model_id": "21bfbba608294146942ead53fd3d3b64",
       "version_major": 2,
       "version_minor": 0
      },
      "text/plain": [
       "Button(description='Plot', icon='check', style=ButtonStyle(), tooltip='Click me')"
      ]
     },
     "metadata": {},
     "output_type": "display_data"
    },
    {
     "data": {
      "application/vnd.jupyter.widget-view+json": {
       "model_id": "fea7b2ec92f84f6a8bea5f73580b2461",
       "version_major": 2,
       "version_minor": 0
      },
      "text/plain": [
       "Output()"
      ]
     },
     "metadata": {},
     "output_type": "display_data"
    }
   ],
   "source": [
    "button = widgets.Button(\n",
    "    description='Plot',\n",
    "    disabled=False,\n",
    "    button_style='', # 'success', 'info', 'warning', 'danger' or ''\n",
    "    tooltip='Click me',\n",
    "    icon='check', # (FontAwesome names without the `fa-` prefix)\n",
    ")\n",
    "button.on_click(on_button_clicked)\n",
    "display(button)\n",
    "out"
   ]
  }
 ],
 "metadata": {
  "kernelspec": {
   "display_name": "Python 3 (ipykernel)",
   "language": "python",
   "name": "python3"
  },
  "language_info": {
   "codemirror_mode": {
    "name": "ipython",
    "version": 3
   },
   "file_extension": ".py",
   "mimetype": "text/x-python",
   "name": "python",
   "nbconvert_exporter": "python",
   "pygments_lexer": "ipython3",
   "version": "3.8.10"
  }
 },
 "nbformat": 4,
 "nbformat_minor": 5
}
