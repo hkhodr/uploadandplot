{
 "cells": [
  {
   "cell_type": "code",
   "execution_count": 1,
   "id": "e790d195-716a-4058-af78-505758f47835",
   "metadata": {},
   "outputs": [
    {
     "data": {
      "application/vnd.jupyter.widget-view+json": {
       "model_id": "8ed144004d8f40e5a4e46253be7b9176",
       "version_major": 2,
       "version_minor": 0
      },
      "text/plain": [
       "FileUpload(value={}, accept='.txt', description='Upload')"
      ]
     },
     "metadata": {},
     "output_type": "display_data"
    }
   ],
   "source": [
    "from ipywidgets import FileUpload, Output\n",
    "import ipywidgets as widgets\n",
    "from IPython.display import display, Javascript,  HTML\n",
    "import sys\n",
    "from io import StringIO\n",
    "import pandas as pd\n",
    "import plotly.express as px\n",
    "import numpy as np \n",
    "from plotly.subplots import make_subplots\n",
    "import plotly.graph_objects as go\n",
    "from scipy.signal import find_peaks\n",
    "\n",
    "out = Output()\n",
    "upload = FileUpload(accept='.txt', multiple=False)\n",
    "\n",
    "upload "
   ]
  },
  {
   "cell_type": "code",
   "execution_count": 2,
   "id": "dd02db57-f8a3-43cd-9581-08481cddfff9",
   "metadata": {},
   "outputs": [
    {
     "data": {
      "application/vnd.jupyter.widget-view+json": {
       "model_id": "22e8cc1866ef48e6859e936206801d41",
       "version_major": 2,
       "version_minor": 0
      },
      "text/plain": [
       "BoundedFloatText(value=0.1, description='Surface:', max=10.0, step=0.1)"
      ]
     },
     "metadata": {},
     "output_type": "display_data"
    }
   ],
   "source": [
    "surfaceInput = widgets.BoundedFloatText(\n",
    "    value=0.1,\n",
    "    min=0,\n",
    "    max=10.0,\n",
    "    step=0.1,\n",
    "    description='Surface:',\n",
    "    disabled=False\n",
    ")\n",
    "display(surfaceInput)"
   ]
  },
  {
   "cell_type": "code",
   "execution_count": 3,
   "id": "5f9f98c4-daa4-4497-8a21-562975296699",
   "metadata": {},
   "outputs": [],
   "source": [
    "# name = input('Please upload a file and a surface value. Press Enter when done.  \\n')\n",
    "def on_button_clicked(b):\n",
    "    with out:\n",
    "        out.clear_output()\n",
    "        if(bool(upload.value)):  \n",
    "\n",
    "            for uploaded_filename in upload.value:\n",
    "                content = upload.value[uploaded_filename]['content']   \n",
    "                print(uploaded_filename)\n",
    "            upload.value.clear()\n",
    "            upload._counter = 0\n",
    "\n",
    "            s = \"\" \n",
    "            for line in content.split(b'\\n'):\n",
    "                if \"Source;Delais(s);Mesure ;Temps(s);Mesure/Source;Source/Mesure;Puissance\" in line.decode('latin-1'):\n",
    "                    s = \"\"\n",
    "                s +=line.decode('latin-1')\n",
    "\n",
    "            df = pd.read_csv(StringIO(s), sep=\";\")\n",
    "            df['Jsc'] = df['Mesure ']*1000/surfaceInput.value\n",
    "\n",
    "            fig = make_subplots(rows=1, cols=2)\n",
    "\n",
    "            fig1 = px.line(df,x=\"Source\", y=\"Jsc\")\n",
    "            fig2 = px.line(df,x=\"Source\", y=\"Puissance\")\n",
    "\n",
    "            fig.add_trace(fig1['data'][0], row=1, col=1)\n",
    "            fig.add_trace(fig2['data'][0], row=1, col=2)\n",
    "\n",
    "            peaks, _ = find_peaks(df.Puissance, height=0)\n",
    "\n",
    "            fig.add_trace(go.Scatter(x=[df.Source[peaks[0]]],y=[df.Puissance[peaks[0]]],mode='markers'),row =1 , col =2)\n",
    "\n",
    "            fig.update_layout(\n",
    "                showlegend=False,\n",
    "                autosize=False,\n",
    "                width=1500,\n",
    "                height=700,\n",
    "                margin=dict(\n",
    "                    l=50,\n",
    "                    r=50,\n",
    "                    b=100,\n",
    "                    t=100,\n",
    "                    pad=3\n",
    "                )\n",
    "            )\n",
    "            # Update xaxis properties\n",
    "            fig.update_xaxes(title_text=\"Source\", row=1, col=1)\n",
    "            fig.update_xaxes(title_text=\"Source\", row=1, col=2)\n",
    "\n",
    "            # Update yaxis properties\n",
    "            fig.update_yaxes(title_text=\"Jsc\", row=1, col=1)\n",
    "            fig.update_yaxes(title_text=\"Puissance\", row=1, col=2)\n",
    "\n",
    "            # Update title and height\n",
    "            # fig.update_layout(title_text=\"Plots\")\n",
    "            fig.show()\n",
    "\n",
    "            print(\"Jsco is: \" + str(np.interp(0, df.Source, df.Jsc)))\n",
    "            print(\"Voc is: \" + str(np.interp(0, df.Jsc, df.Source)))\n",
    "            print(\"Minimum puissance: \" + str(min(df.Puissance)))\n",
    "            print(\"Maximum puissance: \" + str(df.Puissance[peaks[0]]) + \" at \" + str(df.Source[peaks[0]]) + \" V and \" + str(df['Mesure '][peaks[0]]) + \" A.\"  )\n",
    "        else: \n",
    "            print(\"Empty file\")"
   ]
  },
  {
   "cell_type": "code",
   "execution_count": 4,
   "id": "bba58db8-6730-4ac5-b9a0-5e911624aad4",
   "metadata": {},
   "outputs": [
    {
     "data": {
      "application/vnd.jupyter.widget-view+json": {
       "model_id": "db86dc5c77e44b4fa326fa9896d54ce5",
       "version_major": 2,
       "version_minor": 0
      },
      "text/plain": [
       "Button(description='Plot', icon='check', style=ButtonStyle(), tooltip='Click me')"
      ]
     },
     "metadata": {},
     "output_type": "display_data"
    },
    {
     "data": {
      "application/vnd.jupyter.widget-view+json": {
       "model_id": "cd0caed0326649a8a52e6a8a6ebd07fc",
       "version_major": 2,
       "version_minor": 0
      },
      "text/plain": [
       "Output()"
      ]
     },
     "metadata": {},
     "output_type": "display_data"
    }
   ],
   "source": [
    "button = widgets.Button(\n",
    "    description='Plot',\n",
    "    disabled=False,\n",
    "    button_style='', # 'success', 'info', 'warning', 'danger' or ''\n",
    "    tooltip='Click me',\n",
    "    icon='check', # (FontAwesome names without the `fa-` prefix)\n",
    ")\n",
    "button.on_click(on_button_clicked)\n",
    "display(button)\n",
    "out"
   ]
  },
  {
   "cell_type": "code",
   "execution_count": 5,
   "id": "e4f81990-3359-4456-b179-3b64b4b5c349",
   "metadata": {},
   "outputs": [],
   "source": [
    "\n",
    "# %matplotlib inline\n",
    "\n",
    "# from matplotlib.pyplot import *\n",
    "\n",
    "# button = widgets.Button(description=\"Button\")\n",
    "# # out = Output()\n",
    "\n",
    "# # def on_button_clicked(b):\n",
    "# #     with out:\n",
    "# #         out.clear_output()\n",
    "# #         print(\"Asdf\")\n",
    "# #         plot([1,2],[2,1])\n",
    "# #         show()\n",
    "\n",
    "# button.on_click(on_button_clicked)\n",
    "\n",
    "# display(button)\n",
    "# out"
   ]
  },
  {
   "cell_type": "code",
   "execution_count": null,
   "id": "51761f0d-1a81-4935-9ff0-f3b591d48b09",
   "metadata": {},
   "outputs": [],
   "source": []
  }
 ],
 "metadata": {
  "kernelspec": {
   "display_name": "Python 3 (ipykernel)",
   "language": "python",
   "name": "python3"
  },
  "language_info": {
   "codemirror_mode": {
    "name": "ipython",
    "version": 3
   },
   "file_extension": ".py",
   "mimetype": "text/x-python",
   "name": "python",
   "nbconvert_exporter": "python",
   "pygments_lexer": "ipython3",
   "version": "3.8.10"
  }
 },
 "nbformat": 4,
 "nbformat_minor": 5
}
