{
 "cells": [
  {
   "cell_type": "code",
   "execution_count": 1,
   "id": "e790d195-716a-4058-af78-505758f47835",
   "metadata": {},
   "outputs": [
    {
     "data": {
      "application/vnd.jupyter.widget-view+json": {
       "model_id": "57ea848f84ce46fd8c9bfb864dff1a64",
       "version_major": 2,
       "version_minor": 0
      },
      "text/plain": [
       "FileUpload(value={}, accept='.txt', description='Upload', multiple=True)"
      ]
     },
     "metadata": {},
     "output_type": "display_data"
    }
   ],
   "source": [
    "from ipywidgets import FileUpload, Output\n",
    "import ipywidgets as widgets\n",
    "from IPython.display import display, Javascript,  HTML\n",
    "import sys\n",
    "from io import StringIO\n",
    "import pandas as pd\n",
    "import plotly.express as px\n",
    "import numpy as np \n",
    "from plotly.subplots import make_subplots\n",
    "import plotly.graph_objects as go\n",
    "from scipy.signal import find_peaks\n",
    "\n",
    "out = Output()\n",
    "upload = FileUpload(accept='.txt', multiple=True)\n",
    "\n",
    "upload "
   ]
  },
  {
   "cell_type": "code",
   "execution_count": 2,
   "id": "dd02db57-f8a3-43cd-9581-08481cddfff9",
   "metadata": {
    "tags": []
   },
   "outputs": [
    {
     "data": {
      "application/vnd.jupyter.widget-view+json": {
       "model_id": "ed9ec1833671408086f9620f967bd241",
       "version_major": 2,
       "version_minor": 0
      },
      "text/plain": [
       "BoundedFloatText(value=0.27, description='Surface:', max=10.0, step=0.1)"
      ]
     },
     "metadata": {},
     "output_type": "display_data"
    },
    {
     "data": {
      "application/vnd.jupyter.widget-view+json": {
       "model_id": "53cfdb2c7acd4690a785a4a31c085cf7",
       "version_major": 2,
       "version_minor": 0
      },
      "text/plain": [
       "Text(value='', description='String:', placeholder='Type the output file name')"
      ]
     },
     "metadata": {},
     "output_type": "display_data"
    }
   ],
   "source": [
    "surfaceInput = widgets.BoundedFloatText(\n",
    "    value=0.27,\n",
    "    min=0,\n",
    "    max=10.0,\n",
    "    step=0.1,\n",
    "    description='Surface:',\n",
    "    disabled=False\n",
    ")\n",
    "display(surfaceInput)\n",
    "\n",
    "outputfilename = widgets.Text(\n",
    "    value='',\n",
    "    placeholder='Type the output file name',\n",
    "    description='String:',\n",
    "    disabled=False\n",
    ")\n",
    "display(outputfilename)"
   ]
  },
  {
   "cell_type": "code",
   "execution_count": 3,
   "id": "5f9f98c4-daa4-4497-8a21-562975296699",
   "metadata": {},
   "outputs": [],
   "source": [
    "# name = input('Please upload a file and a surface value. Press Enter when done.  \\n')\n",
    "def on_button_clicked(b):\n",
    "    with out:\n",
    "        out.clear_output()\n",
    "        data = []\n",
    "        if(bool(upload.value) and outputfilename.value!=''):  \n",
    "            for uploaded_filename in upload.value:\n",
    "                content = upload.value[uploaded_filename]['content']   \n",
    "                print(uploaded_filename)\n",
    "\n",
    "                s = \"\" \n",
    "                for line in content.split(b'\\n'):\n",
    "                    if \"Source;Delais(s);Mesure ;Temps(s);Mesure/Source;Source/Mesure;Puissance\" in line.decode('latin-1'):\n",
    "                        s = \"\"\n",
    "                    s +=line.decode('latin-1')\n",
    "\n",
    "                df = pd.read_csv(StringIO(s), sep=\";\")\n",
    "                surface = surfaceInput.value\n",
    "                df['J'] = df['Mesure ']*1000/surface\n",
    "                df['Power'] = df['J']*df['Source']\n",
    "\n",
    "                fig = make_subplots(rows=1, cols=2)\n",
    "\n",
    "                fig1 = px.line(df,x=\"Source\", y=\"J\")\n",
    "                fig2 = px.line(df,x=\"Source\", y=\"Power\")\n",
    "\n",
    "                fig.add_trace(fig1['data'][0], row=1, col=1)\n",
    "                fig.add_trace(fig2['data'][0], row=1, col=2)\n",
    "\n",
    "                fig.add_trace(go.Scatter(x=[0],y=[np.interp(0, df.Source, df.J)],mode='markers'),row =1 , col =1)\n",
    "                fig.add_trace(go.Scatter(x=[np.interp(0, df.J, df.Source)],y=[0],mode='markers'),row =1 , col =1)\n",
    "                minPower = min(df.Power)\n",
    "                fig.add_trace(go.Scatter(x=[np.array(df[df.Power == min(df.Power)].Source)[0]],y=[minPower],mode='markers'),row =1 , col =2) \n",
    "                \n",
    "                fig.update_layout(\n",
    "                    showlegend=False,\n",
    "                    autosize=False,\n",
    "                    width=1500,\n",
    "                    height=700,\n",
    "                    margin=dict(\n",
    "                        l=50,\n",
    "                        r=50,\n",
    "                        b=100,\n",
    "                        t=100,\n",
    "                        pad=3\n",
    "                    )\n",
    "                )\n",
    "                # Update xaxis properties\n",
    "                fig.update_xaxes(title_text=\"Voltage [V]\", row=1, col=1)\n",
    "                fig.update_xaxes(title_text=\"Voltage [V]\", row=1, col=2)\n",
    "\n",
    "                # Update yaxis properties\n",
    "                fig.update_yaxes(title_text=\"J [mA/cm^2] \", row=1, col=1)\n",
    "                fig.update_yaxes(title_text=\"Power [mW/cm^2]\", row=1, col=2)\n",
    "\n",
    "                fig.update_xaxes(zeroline=True, zerolinewidth=1, zerolinecolor='black')\n",
    "                fig.update_yaxes(zeroline=True, zerolinewidth=1, zerolinecolor='black')\n",
    "\n",
    "                # Update title and height\n",
    "                fig.update_layout(title_text=uploaded_filename)\n",
    "                fig.show()\n",
    "                \n",
    "                Jsc = round(np.abs(np.interp(0, df.Source, df.J)),3)\n",
    "                Voc = round(np.interp(0, df.J, df.Source),3)\n",
    "                Jmax = round(np.abs(np.array(df[df.Power == min(df.Power)].J)[0]),3)\n",
    "                Vmax = round(np.array(df[df.Power == min(df.Power)].Source)[0],3);\n",
    "                FF = round(((Vmax*Jmax)/(Voc*Jsc))*100,3)\n",
    "                PCE = round((Voc*Jsc*FF)/100,3)\n",
    "                \n",
    "                print(\"Jsc is: \" + str(Jsc))\n",
    "                print(\"Voc is: \" + str(Voc))\n",
    "                print(\"Minimum power: \" + str(min(df.Power)) + \" at \" + str(Vmax) + \" V and \" + str(Jmax) + \" mA/cm^2.\"  )\n",
    "                \n",
    "                data.append([uploaded_filename,Voc,Jsc,Vmax,Jmax,round(Voc*Jsc,3),round(Vmax*Jmax,3),FF,PCE,surface])\n",
    "            upload.value.clear()\n",
    "            upload._counter = 0\n",
    "            dftable = pd.DataFrame(data, columns=['sample', 'Voc (V)','Jsc (mA/cm2)','Vmax','Jmax','Voc*Jsc','Vmax*Jmax','FF(%)','PCE (%)','surface'])\n",
    "            display(dftable)\n",
    "            dftable.to_csv('out_'+outputfilename.value+'.csv', index=False)\n",
    "        else: \n",
    "            print(\"Empty file\")"
   ]
  },
  {
   "cell_type": "code",
   "execution_count": 4,
   "id": "bba58db8-6730-4ac5-b9a0-5e911624aad4",
   "metadata": {},
   "outputs": [
    {
     "data": {
      "application/vnd.jupyter.widget-view+json": {
       "model_id": "aba2ed842cda45788373e1fb293933bb",
       "version_major": 2,
       "version_minor": 0
      },
      "text/plain": [
       "Button(description='Plot', icon='check', style=ButtonStyle(), tooltip='Click me')"
      ]
     },
     "metadata": {},
     "output_type": "display_data"
    },
    {
     "data": {
      "application/vnd.jupyter.widget-view+json": {
       "model_id": "cfe9e76b0f6b4d76bfdb4e626232da0f",
       "version_major": 2,
       "version_minor": 0
      },
      "text/plain": [
       "Output()"
      ]
     },
     "metadata": {},
     "output_type": "display_data"
    }
   ],
   "source": [
    "button = widgets.Button(\n",
    "    description='Plot',\n",
    "    disabled=False,\n",
    "    button_style='', # 'success', 'info', 'warning', 'danger' or ''\n",
    "    tooltip='Click me',\n",
    "    icon='check', # (FontAwesome names without the `fa-` prefix)\n",
    ")\n",
    "button.on_click(on_button_clicked)\n",
    "display(button)\n",
    "out"
   ]
  },
  {
   "cell_type": "code",
   "execution_count": null,
   "id": "aa2a7ca3-32bc-4e1b-be8f-9ccb15cd7d60",
   "metadata": {},
   "outputs": [],
   "source": []
  }
 ],
 "metadata": {
  "kernelspec": {
   "display_name": "Python 3 (ipykernel)",
   "language": "python",
   "name": "python3"
  },
  "language_info": {
   "codemirror_mode": {
    "name": "ipython",
    "version": 3
   },
   "file_extension": ".py",
   "mimetype": "text/x-python",
   "name": "python",
   "nbconvert_exporter": "python",
   "pygments_lexer": "ipython3",
   "version": "3.8.10"
  }
 },
 "nbformat": 4,
 "nbformat_minor": 5
}
