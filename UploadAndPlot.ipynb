{
 "cells": [
  {
   "cell_type": "code",
   "execution_count": 1,
   "id": "d11d5faa",
   "metadata": {},
   "outputs": [],
   "source": [
    "from ipywidgets import FileUpload, Output\n",
    "import ipywidgets as widgets\n",
    "from IPython.display import display, Javascript,  HTML\n",
    "import sys\n",
    "from io import StringIO\n",
    "import pandas as pd\n",
    "import plotly.express as px\n",
    "import numpy as np \n",
    "from plotly.subplots import make_subplots\n",
    "import plotly.graph_objects as go\n",
    "from scipy.signal import find_peaks\n",
    "from IPython.display import clear_output\n",
    "import os \n",
    "import voila\n",
    "from collections import namedtuple\n"
   ]
  },
  {
   "cell_type": "code",
   "execution_count": 2,
   "id": "efed276c",
   "metadata": {},
   "outputs": [],
   "source": [
    "# VARIABLES AND WIDGETS *************************************************************************************************\n",
    "\n",
    "cell_names = ['Left Top','Middle Top','Right Top','Left Bottom','Middle Bottom','Right Bottom']\n",
    "colors = ['blue','green','red','cyan','magenta','yellow']\n",
    "\n",
    "    # Mode selector (OPV or OPD)\n",
    "\n",
    "OPV_or_OPD = widgets.RadioButtons(\n",
    "            options=['OPV', 'OPD (dark only)', 'OPD (dark and light)'],\n",
    "            layout={'width': 'max-content'}, # If the items' names are long\n",
    "            description='Mode :',\n",
    "            disabled=False\n",
    "        )\n",
    "\n",
    "    # Mask format selector \n",
    "    \n",
    "maskFormat = widgets.Dropdown(\n",
    "            options=['6* 0.16 cm²', '4* 0.09 + 2* 0.25 cm²', '3* 0.27 cm²','single'],\n",
    "            value= '6* 0.16 cm²',\n",
    "            description='Mask format :',\n",
    "            disabled=False,\n",
    "            layout={'width': 'max-content'}\n",
    "        )\n",
    "\n",
    "    # Plot unit selector (mA or A)\n",
    "\n",
    "mA_or_A = widgets.RadioButtons(\n",
    "            options=['mA', 'A'],\n",
    "            layout={'width': 'max-content'}, \n",
    "            description='Current Unit :',\n",
    "            disabled=False  \n",
    "        )\n",
    "\n",
    "    # Plot tangent\n",
    "\n",
    "plot = widgets.RadioButtons(\n",
    "            options=['Yes', 'No'],\n",
    "            layout={'width': 'max-content'}, \n",
    "            description='Plot tangent lines:',\n",
    "            style=dict(description_width='initial'),\n",
    "            disabled=False  \n",
    "        )\n",
    "    # Plot scale selector (linear or log)\n",
    "\n",
    "lin_or_log = widgets.RadioButtons(\n",
    "            options=['lin', 'log'],\n",
    "            layout={'width': 'max-content'}, \n",
    "            description='Y scale : ',\n",
    "            disabled=False  \n",
    "        )\n",
    "\n",
    "    # OK and Plot buttons\n",
    "\n",
    "OK_button = widgets.Button(\n",
    "            description='OK',\n",
    "            disabled=False,\n",
    "            button_style='', \n",
    "            tooltip='Click me',\n",
    "            icon='check' \n",
    "        )\n",
    "\n",
    "Plot_button = widgets.Button(                     \n",
    "            description='Plot', \n",
    "            disabled=False,\n",
    "            button_style='',\n",
    "            tooltip='Click me',\n",
    "            icon='line-chart' \n",
    "        ) \n",
    "\n",
    "surfaceInput = widgets.BoundedFloatText(\n",
    "    value=0.16,\n",
    "    min=0,\n",
    "    max=10.0,\n",
    "    step=0.1,\n",
    "    description=\"Surface for single mask format\",\n",
    "    disabled=False,\n",
    "    style=dict(description_width='initial')\n",
    ")\n"
   ]
  },
  {
   "cell_type": "code",
   "execution_count": 3,
   "id": "95404f03",
   "metadata": {},
   "outputs": [
    {
     "data": {
      "application/vnd.jupyter.widget-view+json": {
       "model_id": "efe7188b596f40648ddc32462ec77e4c",
       "version_major": 2,
       "version_minor": 0
      },
      "text/plain": [
       "FileUpload(value={}, accept='.txt', description='Upload', multiple=True)"
      ]
     },
     "metadata": {},
     "output_type": "display_data"
    }
   ],
   "source": [
    "out = Output()\n",
    "upload=FileUpload(accept='.txt', multiple=True)\n",
    "upload"
   ]
  },
  {
   "cell_type": "code",
   "execution_count": 4,
   "id": "093f949c",
   "metadata": {},
   "outputs": [
    {
     "data": {
      "application/vnd.jupyter.widget-view+json": {
       "model_id": "7f6cab07980a437e880318f02159db48",
       "version_major": 2,
       "version_minor": 0
      },
      "text/plain": [
       "RadioButtons(description='Mode :', layout=Layout(width='max-content'), options=('OPV', 'OPD (dark only)', 'OPD…"
      ]
     },
     "metadata": {},
     "output_type": "display_data"
    },
    {
     "data": {
      "application/vnd.jupyter.widget-view+json": {
       "model_id": "92384e5e235a49f8b1e9fac70f8df11f",
       "version_major": 2,
       "version_minor": 0
      },
      "text/plain": [
       "Output()"
      ]
     },
     "metadata": {},
     "output_type": "display_data"
    },
    {
     "data": {
      "application/vnd.jupyter.widget-view+json": {
       "model_id": "885ca3a0933a4c64846c8e049eeda66c",
       "version_major": 2,
       "version_minor": 0
      },
      "text/plain": [
       "Dropdown(description='Mask format :', layout=Layout(width='max-content'), options=('6* 0.16 cm²', '4* 0.09 + 2…"
      ]
     },
     "metadata": {},
     "output_type": "display_data"
    },
    {
     "data": {
      "application/vnd.jupyter.widget-view+json": {
       "model_id": "0fd527df9fe54e4e8ee6a5f05e7343cb",
       "version_major": 2,
       "version_minor": 0
      },
      "text/plain": [
       "Output()"
      ]
     },
     "metadata": {},
     "output_type": "display_data"
    },
    {
     "data": {
      "application/vnd.jupyter.widget-view+json": {
       "model_id": "5f22781dfed64ada985c007c2d6836b9",
       "version_major": 2,
       "version_minor": 0
      },
      "text/plain": [
       "BoundedFloatText(value=0.16, description='Surface for single mask format', max=10.0, step=0.1, style=Descripti…"
      ]
     },
     "metadata": {},
     "output_type": "display_data"
    }
   ],
   "source": [
    "display(OPV_or_OPD, widgets.Output())\n",
    "display(maskFormat, widgets.Output())\n",
    "display(surfaceInput)"
   ]
  },
  {
   "cell_type": "code",
   "execution_count": 5,
   "id": "637dcec3",
   "metadata": {},
   "outputs": [],
   "source": [
    "Settings = namedtuple(\"Settings\", [\"mode\", \"mask\", \"surface\"])\n",
    "Options = namedtuple(\"Options\",[\"mA_or_A\",\"lin_or_log\",\"plot\"])"
   ]
  },
  {
   "cell_type": "code",
   "execution_count": 23,
   "id": "efd7ba1a",
   "metadata": {},
   "outputs": [],
   "source": [
    "def NumberOfSamplesAndCells(files, settings):\n",
    "        \n",
    "        number_of_samples = int(len(files))\n",
    "        cell_surfaces = [settings.surface]*number_of_samples\n",
    "        \n",
    "        if number_of_samples == 0: \n",
    "            print(\"Upload at least one file.\")\n",
    "            return number_of_samples, cell_surfaces\n",
    "        \n",
    "        if settings.mode != 'OPD (dark and light)':\n",
    "\n",
    "            if settings.mask == '6* 0.16 cm²':\n",
    "                number_of_samples = int(number_of_samples/6) \n",
    "                cell_surfaces=[0.16,0.16,0.16,0.16,0.16,0.16]\n",
    "\n",
    "            elif settings.mask == '4* 0.09 + 2* 0.25 cm²':\n",
    "                number_of_samples = int(number_of_samples/6) \n",
    "                cell_surfaces=[0.09,0.25,0.09,0.09,0.25,0.09]\n",
    "\n",
    "            elif maskFormat.value == '3* 0.27 cm²':\n",
    "                number_of_samples = int(number_of_samples/3) \n",
    "                cell_surfaces=[0.27,0.27,0.27]\n",
    "\n",
    "\n",
    "        else:\n",
    "            if settings.mask == '6* 0.16 cm²':\n",
    "                number_of_samples = int(number_of_samples/12) \n",
    "                cell_surfaces=[0.16,0.16,0.16,0.16,0.16,0.16]\n",
    "\n",
    "            elif settings.mask == '4* 0.09 + 2* 0.25 cm²':\n",
    "                number_of_samples = int(number_of_samples/12) \n",
    "                cell_surfaces=[0.09,0.25,0.09,0.09,0.25,0.09]\n",
    "            \n",
    "            elif settings.mask == '3* 0.27 cm²':\n",
    "                number_of_samples = int(number_of_samples/6) \n",
    "                cell_surfaces=[0.27,0.27,0.27]\n",
    "            \n",
    "        return number_of_samples, cell_surfaces\n",
    "    \n",
    "def read_file(content,surface,options):\n",
    "    s = \"\" \n",
    "    for line in content.split(b'\\n'):\n",
    "        if \"Source;Delais(s);Mesure ;Temps(s);Mesure/Source;Source/Mesure;Puissance\" in line.decode('latin-1'):\n",
    "            s = \"\"\n",
    "        s +=line.decode('latin-1')\n",
    "\n",
    "    df = pd.read_csv(StringIO(s), sep=\";\")\n",
    "    \n",
    "    if options.mA_or_A == 'A':\n",
    "        df['J'] = df['Mesure ']/surface\n",
    "        df['I'] = df['Mesure ']\n",
    "    else:\n",
    "        df['J'] = df['Mesure ']*1000/surface\n",
    "        df['I'] = df['Mesure ']*1000\n",
    "\n",
    "    df['Power'] = df['J']*df['Source']\n",
    "    df['Jab'] = df['J'].abs()\n",
    "    \n",
    "    return df\n",
    "\n",
    "def sort_files(uploads, nb_cells, settings):\n",
    "    darks = []\n",
    "    lights =[]\n",
    "\n",
    "    f = [uploads[i:i+nb_cells] for i in range(0, len(uploads), nb_cells)]\n",
    "\n",
    "    if settings.mode == 'OPD (dark and light)':\n",
    "        darks = f[::2] #even\n",
    "        lights = f[1::2] #odd\n",
    "    \n",
    "    return f, darks, lights"
   ]
  },
  {
   "cell_type": "code",
   "execution_count": 24,
   "id": "b0c824c4",
   "metadata": {},
   "outputs": [],
   "source": [
    "def extract(df,i,inc):\n",
    "    start = i - inc if i - inc > 0 else 0\n",
    "    end = i + inc if i+inc < len(df) else len(df)\n",
    "    a = df.iloc[start:end]\n",
    "    \n",
    "    xData = a.Source\n",
    "    yData = a.J\n",
    "    return xData, yData\n",
    "\n",
    "def tangente(xData,yData,x0,options):\n",
    "    \n",
    "    fittedParameters = np.polyfit(xData, yData, 5)\n",
    "    \n",
    "    xModel = np.linspace(min(xData), max(xData))\n",
    "    yModel = np.polyval(fittedParameters, xModel)\n",
    "    data = {'x':xModel, 'y':yModel}\n",
    "    dffitted = pd.DataFrame(data)\n",
    "    \n",
    "     # polynomial derivative from numpy\n",
    "    deriv = np.polyder(fittedParameters)\n",
    "\n",
    "    # for plotting\n",
    "    minX = min(xData)\n",
    "    maxX = max(xData)\n",
    "\n",
    "    pointVal = x0\n",
    "    y_value_at_point = np.polyval(fittedParameters, pointVal)\n",
    "    slope_at_point = np.polyval(deriv, pointVal)\n",
    "\n",
    "    ylow = (minX - pointVal) * slope_at_point + y_value_at_point\n",
    "    yhigh = (maxX - pointVal) * slope_at_point + y_value_at_point\n",
    "    \n",
    "    data = {'x':xModel, 'y':yModel}\n",
    "    dffitted = pd.DataFrame(data)\n",
    "    \n",
    "    R = 1/slope_at_point if options.mA_or_A == 'A' else 1000/slope_at_point\n",
    "    return R, [minX,maxX], [ylow, yhigh]\n",
    "\n",
    "#Tangentes \n",
    "def ExtractRshunt(df,fig,options):\n",
    "    xData, yData = extract(df,df[df.J > np.interp(0, df.Source, df.J)].index[0],50)\n",
    "    Rshunt, linex, liney = tangente(xData,yData,0,options)\n",
    "    if options.plot: \n",
    "        fig.add_trace(go.Scatter(x=linex,y=liney,mode='lines',  line=dict(color=\"#808080\", dash=\"dash\"),showlegend=False), row =1, col = 1)\n",
    "    return Rshunt\n",
    "\n",
    "def ExtractRserie(df,fig,options):\n",
    "    xData, yData = extract(df,df[df.J > 0].index[0],10)\n",
    "    Voc = round(np.interp(0, df.J, df.Source),2)\n",
    "    Rserie, linex, liney = tangente(xData,yData,Voc,options)\n",
    "    if options.plot:\n",
    "        fig.add_trace(go.Scatter(x=linex,y=liney,mode='lines', line=dict(color=\"#808080\", dash=\"dash\"),showlegend=False), row =1, col = 1)\n",
    "    return Rserie"
   ]
  },
  {
   "cell_type": "code",
   "execution_count": 25,
   "id": "6f925513",
   "metadata": {},
   "outputs": [],
   "source": [
    "def add_lines(df,fig,color,title,dark):\n",
    "    if dark:\n",
    "        fig1 = px.line(df,x=\"Source\", y=\"Jab\").update_traces(line_color=color, name = title, showlegend=True)\n",
    "    else: \n",
    "        fig1 = px.line(df,x=\"Source\", y=\"J\").update_traces(line_color=color, name = title, showlegend=True)\n",
    "        \n",
    "    fig2 = px.line(df,x=\"Source\", y=\"Power\").update_traces(line_color=color, name = title, showlegend=False)\n",
    "    fig3 = px.line(df,x=\"Source\", y=\"Mesure \").update_traces(line_color=color, name = title, showlegend=False)\n",
    "    \n",
    "    fig.add_trace(fig1['data'][0], row=1, col=1)\n",
    "    fig.add_trace(fig2['data'][0], row=1, col=2)\n",
    "    fig.add_trace(fig3['data'][0], row=1, col=3)\n",
    "    \n",
    "def UpdateAxisProperties(fig,options):\n",
    "    fig.update_layout(\n",
    "        showlegend=False,\n",
    "        autosize=False,\n",
    "        width=2000,\n",
    "        height=700,\n",
    "        margin=dict(\n",
    "            l=50,\n",
    "            r=50,\n",
    "            b=100,\n",
    "            t=100,\n",
    "            pad=3\n",
    "        )\n",
    "    )\n",
    "    # Update xaxis properties\n",
    "    fig.update_xaxes(title_text='Voltage (V)', row=1, col=1)\n",
    "    fig.update_xaxes(title_text='Voltage (V)', row=1, col=2)\n",
    "    fig.update_xaxes(title_text='Voltage (V)', row=1, col=3)\n",
    "\n",
    "    # Update yaxis properties \n",
    "    if options.mA_or_A == 'A':\n",
    "        fig.update_yaxes(title_text='J (A/cm\\u00b2)', row=1, col=1)       \n",
    "        fig.update_yaxes(title_text='P (W/cm\\u00b2)', row=1, col=2)\n",
    "        fig.update_yaxes(title_text='I (A)', row=1, col=3)\n",
    "    else:\n",
    "        fig.update_yaxes(title_text='J (mA/cm\\u00b2)', row=1, col=1)       \n",
    "        fig.update_yaxes(title_text='P (mW/cm\\u00b2)', row=1, col=2)\n",
    "        fig.update_yaxes(title_text='I (mA)', row=1, col=3)\n",
    "\n",
    "    if options.lin_or_log == 'log':\n",
    "        fig.update_yaxes(type=\"log\")\n",
    "\n",
    "    fig.update_xaxes(zeroline=True, zerolinewidth=1, zerolinecolor='black')\n",
    "    fig.update_yaxes(zeroline=True, zerolinewidth=1, zerolinecolor='black')"
   ]
  },
  {
   "cell_type": "code",
   "execution_count": 19,
   "id": "51d40d52",
   "metadata": {},
   "outputs": [],
   "source": [
    "def add_data(df, data, fig, options, sample_name, cell_name, surface, dark):\n",
    "    \n",
    "    if not dark:\n",
    "        Jsc = round(np.abs(np.interp(0, df.Source, df.J)),2)\n",
    "        Voc = round(np.interp(0, df.J, df.Source),2)\n",
    "        Jmax = round(np.abs(np.array(df[df.Power == min(df.Power)].J)[0]),2)\n",
    "        Vmax = round(np.array(df[df.Power == min(df.Power)].Source)[0],2);\n",
    "        FF = round(((Vmax*Jmax)/(Voc*Jsc))*100,2)\n",
    "        PCE = round((Voc*Jsc*FF)/100,2)\n",
    "\n",
    "        Rserie = ExtractRserie(df, fig, options)\n",
    "        Rshunt = ExtractRshunt(df, fig, options)\n",
    "        \n",
    "        df.to_excel(sample_name +' - light plots - ' + cell_name + '.xlsx')\n",
    "        data.append([cell_name,Voc,Jsc,Vmax,Jmax,round(Voc*Jsc,2),round(Vmax*Jmax,2),FF,PCE,surface,Rshunt,Rserie])    #CARC\n",
    "\n",
    "    else: \n",
    "        # Calculating FoM\n",
    "        Jmin = min(df.Jab)\n",
    "        V_Jmin = np.interp(Jmin, df.J, df.Source)\n",
    "        J_0 = np.abs(np.interp(0, df.Source, df.J))\n",
    "        J_1 = np.abs(np.interp(-1, df.Source, df.J))\n",
    "        J_2 = np.abs(np.interp(-2, df.Source, df.J))\n",
    "        minPower = min(df.Power)\n",
    "        \n",
    "        df.to_excel(sample_name +' - dark plots - ' + cell_name + '.xlsx')\n",
    "        data.append([cell_name,Jmin,V_Jmin, J_0, J_1, J_2, surface])  \n",
    "    \n",
    "def create_dftable(data, options, dark):\n",
    "    if dark: \n",
    "        dftable = pd.DataFrame(data, columns=['Cell', 'Jmin ('+options.mA_or_A+'/cm²)','V(Jmin)(V) ','J(0)','J(-1)','J(-2)','surface (cm²)'])         \n",
    "        label = ' - dark FoM'\n",
    "        \n",
    "    else:\n",
    "        label = ' - light FoM'\n",
    "        dftable = pd.DataFrame(data, columns=['Cell', 'Voc (V)','J ('+options.mA_or_A+'/cm²)','Vmax','Jmax',\n",
    "                                              'Voc*Jsc','Vmax*Jmax','FF(%)','PCE (%)','surface',\n",
    "                                              'Rshunt (Ω/cm²)', 'Rserie (Ω/cm²)'])        \n",
    "    return label, dftable\n",
    "\n",
    "def main_loop(files, splitted_files, cell_surfaces,sample_names,settings,options, dark):\n",
    "    data = []\n",
    "    if dark: \n",
    "        print('\\n DARK RESULTS : \\n')\n",
    "    else: \n",
    "        print('\\n LIGHT RESULTS : \\n')\n",
    "        \n",
    "\n",
    "    for sample in splitted_files:\n",
    "        fig = make_subplots(rows=1, cols=3)\n",
    "        sample_index = splitted_files.index(sample)\n",
    "        \n",
    "        for cell in sample:\n",
    "            cell_index = sample.index(cell)\n",
    "            content = files[cell]['content']\n",
    "            surface = cell_surfaces[cell_index]\n",
    "            df = read_file(content,surface,options)\n",
    "            cell_name = cell_names[cell_index]\n",
    "            sample_name = sample_names[sample_index]\n",
    "            \n",
    "            add_lines(df,fig,colors[cell_index%len(colors)],cell_name,dark)\n",
    "            UpdateAxisProperties(fig,options)\n",
    "            fig.update_layout(title_text=sample_name)  \n",
    "            add_data(df, data, fig, options, sample_name, cell_name, surface, dark)\n",
    "        \n",
    "        label, dftable = create_dftable(data, options, dark) \n",
    "        print(\"Sample : \", sample_name)          \n",
    "        display(dftable)\n",
    "        dftable.to_excel(sample_name+label+ '.xlsx')\n",
    "        data = []\n",
    "        fig.update_layout(showlegend=True)\n",
    "        fig.show() "
   ]
  },
  {
   "cell_type": "code",
   "execution_count": 21,
   "id": "6dc097bd",
   "metadata": {},
   "outputs": [],
   "source": [
    "def OK_button_clicked(b):\n",
    "    \n",
    "    with out:\n",
    "        out.clear_output()\n",
    "        sample_names=[]\n",
    "        \n",
    "        files  = upload.value\n",
    "        files_name = list(files)\n",
    "        \n",
    "        settings = Settings(mode=OPV_or_OPD.value, mask = maskFormat.value, surface = surfaceInput.value)\n",
    "        number_of_samples, cell_surfaces = NumberOfSamplesAndCells(files, settings)\n",
    "        if number_of_samples < 1 : return\n",
    "        print(settings.mode, ' mode. ', str(number_of_samples)+' sample(s).')   \n",
    "        number_of_cells = len(cell_surfaces) if settings.mask != 'single' else 1\n",
    "        \n",
    "        splitted_files, darks, lights = sort_files(files_name, number_of_cells, settings)\n",
    "        \n",
    "    # SAMPLE NAMES INPUT ****************************************************************************************************\n",
    "\n",
    "        name_widgets = []\n",
    "\n",
    "        for i in range(number_of_samples):\n",
    "            name_widgets.append(widgets.Text(          \n",
    "               value='',\n",
    "               placeholder='Write your sample name',\n",
    "               description=\"Sample °\" + str(i+1),\n",
    "               disabled=False\n",
    "             ))\n",
    "\n",
    "            display(name_widgets[i], widgets.Output())    \n",
    "\n",
    "        display(plot)\n",
    "    # Some options ***********************************************************************************************\n",
    "        if settings.mode != 'OPV':\n",
    "            display(lin_or_log, widgets.Output())\n",
    "            display(mA_or_A, widgets.Output())\n",
    "        \n",
    "    # plot button function ***************************************************************************************\n",
    "        def plot_button_clicked(b):\n",
    "            with out:\n",
    "                out.clear_output()\n",
    "                if settings.mode != 'OPV':\n",
    "                    options = Options(mA_or_A = mA_or_A.value, lin_or_log = lin_or_log.value, plot = plot.value == 'Yes')\n",
    "                else: \n",
    "                    options = Options(mA_or_A = 'mA', lin_or_log = 'lin', plot = plot.value == 'Yes')\n",
    "            \n",
    "                for i in name_widgets:\n",
    "                    if i.value !=\"\":\n",
    "                        sample_names.append(i.value)  \n",
    "                    else: \n",
    "                        sample_names.append(\"Sample\"+str(name_widgets.index(i)))\n",
    "                \n",
    "                if settings.mode == \"OPV\":\n",
    "                    main_loop(files,splitted_files, cell_surfaces,sample_names,settings,options,False)\n",
    "                elif settings.mode == \"OPD (dark only)\":\n",
    "                    main_loop(files,splitted_files, cell_surfaces,sample_names,settings,options,True)\n",
    "                else: \n",
    "                    main_loop(files, darks, cell_surfaces,sample_names,settings,options,True)\n",
    "                    main_loop(files, lights, cell_surfaces,sample_names,settings,options,False)\n",
    "                    \n",
    "                \n",
    "# PLOT BUTTON EXECUTION ***************************************************************************************\n",
    "        \n",
    "        display(Plot_button, widgets.Output())\n",
    "        Plot_button.on_click(plot_button_clicked) \n",
    "        \n",
    "    out"
   ]
  },
  {
   "cell_type": "code",
   "execution_count": 22,
   "id": "ea7ca402",
   "metadata": {},
   "outputs": [
    {
     "data": {
      "application/vnd.jupyter.widget-view+json": {
       "model_id": "7be1066a3a8e430c87eb51c18c506886",
       "version_major": 2,
       "version_minor": 0
      },
      "text/plain": [
       "Button(description='OK', icon='check', style=ButtonStyle(), tooltip='Click me')"
      ]
     },
     "metadata": {},
     "output_type": "display_data"
    },
    {
     "data": {
      "application/vnd.jupyter.widget-view+json": {
       "model_id": "f63371bd931f4507b6bde10ef019283a",
       "version_major": 2,
       "version_minor": 0
      },
      "text/plain": [
       "Output()"
      ]
     },
     "metadata": {},
     "output_type": "display_data"
    },
    {
     "data": {
      "application/vnd.jupyter.widget-view+json": {
       "model_id": "6890f9c5ce8a4a4ba4f54cce3538d549",
       "version_major": 2,
       "version_minor": 0
      },
      "text/plain": [
       "Output()"
      ]
     },
     "metadata": {},
     "output_type": "display_data"
    }
   ],
   "source": [
    "# OK BUTTON EXECUTION ******************************************************************************************\n",
    "\n",
    "OK_button.on_click(OK_button_clicked)\n",
    "display(OK_button, widgets.Output())\n",
    "\n",
    "out"
   ]
  },
  {
   "cell_type": "code",
   "execution_count": null,
   "id": "e5c69e74",
   "metadata": {},
   "outputs": [],
   "source": []
  }
 ],
 "metadata": {
  "kernelspec": {
   "display_name": "Python 3",
   "language": "python",
   "name": "python3"
  },
  "language_info": {
   "codemirror_mode": {
    "name": "ipython",
    "version": 3
   },
   "file_extension": ".py",
   "mimetype": "text/x-python",
   "name": "python",
   "nbconvert_exporter": "python",
   "pygments_lexer": "ipython3",
   "version": "3.7.3"
  }
 },
 "nbformat": 4,
 "nbformat_minor": 5
}
